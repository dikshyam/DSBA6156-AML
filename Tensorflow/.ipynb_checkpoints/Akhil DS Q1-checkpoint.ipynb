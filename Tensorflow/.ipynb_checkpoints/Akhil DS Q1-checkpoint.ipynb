{
 "cells": [
  {
   "cell_type": "markdown",
   "metadata": {},
   "source": [
    "Demonstrate your model, by creating forecasts for the\n",
    "following periods:\n",
    "\n",
    "• Month of November 2012\n"
   ]
  },
  {
   "cell_type": "code",
   "execution_count": 246,
   "metadata": {},
   "outputs": [],
   "source": [
    "import pandas as pd\n",
    "from sklearn.ensemble import RandomForestRegressor\n",
    "from sklearn import metrics\n",
    "import numpy as np"
   ]
  },
  {
   "cell_type": "code",
   "execution_count": 210,
   "metadata": {},
   "outputs": [],
   "source": [
    "data = pd.read_csv('Sales by Store - Department.xls',sep='\\t')"
   ]
  },
  {
   "cell_type": "code",
   "execution_count": 182,
   "metadata": {},
   "outputs": [],
   "source": [
    "data['Month'] = pd.DatetimeIndex(data['Date']).month"
   ]
  },
  {
   "cell_type": "code",
   "execution_count": 183,
   "metadata": {},
   "outputs": [],
   "source": [
    "data['Quarter'] = pd.DatetimeIndex(data['Date']).quarter"
   ]
  },
  {
   "cell_type": "code",
   "execution_count": 184,
   "metadata": {},
   "outputs": [],
   "source": [
    "data['Year'] = pd.DatetimeIndex(data['Date']).year"
   ]
  },
  {
   "cell_type": "code",
   "execution_count": 185,
   "metadata": {},
   "outputs": [],
   "source": [
    "data['Week'] = pd.DatetimeIndex(data['Date']).week"
   ]
  },
  {
   "cell_type": "code",
   "execution_count": 207,
   "metadata": {},
   "outputs": [
    {
     "data": {
      "text/plain": [
       "(421570, 2)"
      ]
     },
     "execution_count": 207,
     "metadata": {},
     "output_type": "execute_result"
    }
   ],
   "source": [
    "data[['Store','Dept']].shape"
   ]
  },
  {
   "cell_type": "code",
   "execution_count": 212,
   "metadata": {},
   "outputs": [
    {
     "data": {
      "text/plain": [
       "(3331, 2)"
      ]
     },
     "execution_count": 212,
     "metadata": {},
     "output_type": "execute_result"
    }
   ],
   "source": [
    "#data[['Store','Dept']].drop_duplicates().shape"
   ]
  },
  {
   "cell_type": "code",
   "execution_count": 186,
   "metadata": {},
   "outputs": [
    {
     "data": {
      "text/plain": [
       "Store                   0\n",
       "Dept                    0\n",
       "Date                    0\n",
       "Weekly_Sales            0\n",
       "IsHoliday               0\n",
       "Previous Weeks Sales    0\n",
       "Month                   0\n",
       "Quarter                 0\n",
       "Year                    0\n",
       "Week                    0\n",
       "dtype: int64"
      ]
     },
     "execution_count": 186,
     "metadata": {},
     "output_type": "execute_result"
    }
   ],
   "source": [
    "data.isna().sum()"
   ]
  },
  {
   "cell_type": "code",
   "execution_count": 187,
   "metadata": {},
   "outputs": [
    {
     "data": {
      "text/html": [
       "<div>\n",
       "<style scoped>\n",
       "    .dataframe tbody tr th:only-of-type {\n",
       "        vertical-align: middle;\n",
       "    }\n",
       "\n",
       "    .dataframe tbody tr th {\n",
       "        vertical-align: top;\n",
       "    }\n",
       "\n",
       "    .dataframe thead th {\n",
       "        text-align: right;\n",
       "    }\n",
       "</style>\n",
       "<table border=\"1\" class=\"dataframe\">\n",
       "  <thead>\n",
       "    <tr style=\"text-align: right;\">\n",
       "      <th></th>\n",
       "      <th>Store</th>\n",
       "      <th>Dept</th>\n",
       "      <th>Date</th>\n",
       "      <th>Weekly_Sales</th>\n",
       "      <th>IsHoliday</th>\n",
       "      <th>Previous Weeks Sales</th>\n",
       "      <th>Month</th>\n",
       "      <th>Quarter</th>\n",
       "      <th>Year</th>\n",
       "      <th>Week</th>\n",
       "    </tr>\n",
       "  </thead>\n",
       "  <tbody>\n",
       "    <tr>\n",
       "      <th>0</th>\n",
       "      <td>1</td>\n",
       "      <td>1</td>\n",
       "      <td>2/5/10</td>\n",
       "      <td>24924.50</td>\n",
       "      <td>False</td>\n",
       "      <td>0.0</td>\n",
       "      <td>2</td>\n",
       "      <td>1</td>\n",
       "      <td>2010</td>\n",
       "      <td>5</td>\n",
       "    </tr>\n",
       "    <tr>\n",
       "      <th>1</th>\n",
       "      <td>1</td>\n",
       "      <td>1</td>\n",
       "      <td>2/12/10</td>\n",
       "      <td>46039.49</td>\n",
       "      <td>True</td>\n",
       "      <td>24924.5</td>\n",
       "      <td>2</td>\n",
       "      <td>1</td>\n",
       "      <td>2010</td>\n",
       "      <td>6</td>\n",
       "    </tr>\n",
       "  </tbody>\n",
       "</table>\n",
       "</div>"
      ],
      "text/plain": [
       "   Store  Dept     Date  Weekly_Sales  IsHoliday  Previous Weeks Sales  Month  \\\n",
       "0      1     1   2/5/10      24924.50      False                   0.0      2   \n",
       "1      1     1  2/12/10      46039.49       True               24924.5      2   \n",
       "\n",
       "   Quarter  Year  Week  \n",
       "0        1  2010     5  \n",
       "1        1  2010     6  "
      ]
     },
     "execution_count": 187,
     "metadata": {},
     "output_type": "execute_result"
    }
   ],
   "source": [
    "data.head(2)"
   ]
  },
  {
   "cell_type": "markdown",
   "metadata": {},
   "source": [
    "import matplotlib.pylab as plt\n",
    "%matplotlib inline\n",
    "fig=plt.figure(figsize=(18, 16), dpi= 80, facecolor='w', edgecolor='k')"
   ]
  },
  {
   "cell_type": "code",
   "execution_count": 189,
   "metadata": {},
   "outputs": [],
   "source": [
    "data['Date'] = pd.DatetimeIndex(data['Date'])"
   ]
  },
  {
   "cell_type": "code",
   "execution_count": 190,
   "metadata": {
    "scrolled": true
   },
   "outputs": [],
   "source": [
    "#fig.p(data['Date'],data['Weekly_Sales'])"
   ]
  },
  {
   "cell_type": "code",
   "execution_count": 191,
   "metadata": {},
   "outputs": [],
   "source": [
    "#del data['Date']"
   ]
  },
  {
   "cell_type": "code",
   "execution_count": 192,
   "metadata": {},
   "outputs": [
    {
     "data": {
      "text/plain": [
       "Index(['Store', 'Dept', 'Date', 'Weekly_Sales', 'IsHoliday',\n",
       "       'Previous Weeks Sales', 'Month', 'Quarter', 'Year', 'Week'],\n",
       "      dtype='object')"
      ]
     },
     "execution_count": 192,
     "metadata": {},
     "output_type": "execute_result"
    }
   ],
   "source": [
    "data.columns"
   ]
  },
  {
   "cell_type": "code",
   "execution_count": 193,
   "metadata": {},
   "outputs": [],
   "source": [
    "from sklearn.preprocessing import LabelEncoder\n",
    "le = LabelEncoder()\n",
    "data['IsHoliday'] = le.fit_transform(data['IsHoliday'])"
   ]
  },
  {
   "cell_type": "code",
   "execution_count": 194,
   "metadata": {},
   "outputs": [],
   "source": [
    "from statsmodels.api import OLS\n",
    "from sklearn.linear_model import LinearRegression"
   ]
  },
  {
   "cell_type": "code",
   "execution_count": 195,
   "metadata": {},
   "outputs": [],
   "source": [
    "train2012 = data.loc[data['Year']==2012]"
   ]
  },
  {
   "cell_type": "code",
   "execution_count": 214,
   "metadata": {},
   "outputs": [
    {
     "data": {
      "text/plain": [
       "(127438, 10)"
      ]
     },
     "execution_count": 214,
     "metadata": {},
     "output_type": "execute_result"
    }
   ],
   "source": [
    "train2012.shape"
   ]
  },
  {
   "cell_type": "code",
   "execution_count": 197,
   "metadata": {},
   "outputs": [],
   "source": [
    "#monthly = data.groupby(['Store','Dept','Year','Quarter','Month'])['Weekly_Sales'].sum().reset_index()"
   ]
  },
  {
   "cell_type": "code",
   "execution_count": null,
   "metadata": {},
   "outputs": [],
   "source": [
    "monthly = data.groupby(['Store','Dept','Year','Quarter','Month'])['Weekly_Sales'].sum().reset_index()"
   ]
  },
  {
   "cell_type": "code",
   "execution_count": 215,
   "metadata": {},
   "outputs": [],
   "source": [
    "year_2010 = monthly.loc[monthly['Year']==2010]"
   ]
  },
  {
   "cell_type": "code",
   "execution_count": 216,
   "metadata": {},
   "outputs": [],
   "source": [
    "year_2011 = monthly.loc[monthly['Year']==2011]"
   ]
  },
  {
   "cell_type": "code",
   "execution_count": 217,
   "metadata": {},
   "outputs": [],
   "source": [
    "year_2012 = monthly.loc[monthly['Year']==2012]"
   ]
  },
  {
   "cell_type": "code",
   "execution_count": 218,
   "metadata": {},
   "outputs": [
    {
     "name": "stdout",
     "output_type": "stream",
     "text": [
      "(33169, 6) (36484, 6) (30528, 6)\n"
     ]
    }
   ],
   "source": [
    "print(year_2010.shape,year_2011.shape,year_2012.shape)"
   ]
  },
  {
   "cell_type": "code",
   "execution_count": 220,
   "metadata": {},
   "outputs": [
    {
     "name": "stderr",
     "output_type": "stream",
     "text": [
      "/Users/dikshya/anaconda3/lib/python3.6/site-packages/pandas/core/frame.py:3027: SettingWithCopyWarning: \n",
      "A value is trying to be set on a copy of a slice from a DataFrame\n",
      "\n",
      "See the caveats in the documentation: http://pandas.pydata.org/pandas-docs/stable/indexing.html#indexing-view-versus-copy\n",
      "  \"Boolean Series key will be reindexed to match \" \"DataFrame index.\",\n"
     ]
    }
   ],
   "source": [
    "year_2010.rename(columns={\"Weekly_Sales\": \"Monthly_2010\"},inplace=True)\n",
    "year_2011.rename(columns={\"Weekly_Sales\": \"Monthly_2011\"},inplace=True)\n",
    "year_2012.rename(columns={\"Weekly_Sales\": \"Monthly_2012\"},inplace=True)"
   ]
  },
  {
   "cell_type": "code",
   "execution_count": 223,
   "metadata": {},
   "outputs": [
    {
     "data": {
      "text/html": [
       "<div>\n",
       "<style scoped>\n",
       "    .dataframe tbody tr th:only-of-type {\n",
       "        vertical-align: middle;\n",
       "    }\n",
       "\n",
       "    .dataframe tbody tr th {\n",
       "        vertical-align: top;\n",
       "    }\n",
       "\n",
       "    .dataframe thead th {\n",
       "        text-align: right;\n",
       "    }\n",
       "</style>\n",
       "<table border=\"1\" class=\"dataframe\">\n",
       "  <thead>\n",
       "    <tr style=\"text-align: right;\">\n",
       "      <th></th>\n",
       "      <th>Store</th>\n",
       "      <th>Dept</th>\n",
       "      <th>Year</th>\n",
       "      <th>Quarter</th>\n",
       "      <th>Month</th>\n",
       "      <th>Monthly_2012</th>\n",
       "    </tr>\n",
       "  </thead>\n",
       "  <tbody>\n",
       "    <tr>\n",
       "      <th>23</th>\n",
       "      <td>1</td>\n",
       "      <td>1</td>\n",
       "      <td>2012</td>\n",
       "      <td>1</td>\n",
       "      <td>1</td>\n",
       "      <td>70205.35</td>\n",
       "    </tr>\n",
       "    <tr>\n",
       "      <th>24</th>\n",
       "      <td>1</td>\n",
       "      <td>1</td>\n",
       "      <td>2012</td>\n",
       "      <td>1</td>\n",
       "      <td>2</td>\n",
       "      <td>134683.30</td>\n",
       "    </tr>\n",
       "  </tbody>\n",
       "</table>\n",
       "</div>"
      ],
      "text/plain": [
       "    Store  Dept  Year  Quarter  Month  Monthly_2012\n",
       "23      1     1  2012        1      1      70205.35\n",
       "24      1     1  2012        1      2     134683.30"
      ]
     },
     "execution_count": 223,
     "metadata": {},
     "output_type": "execute_result"
    }
   ],
   "source": [
    "year_2012.head(2)"
   ]
  },
  {
   "cell_type": "code",
   "execution_count": 162,
   "metadata": {},
   "outputs": [],
   "source": [
    "#data_processed = data[['Store','Dept','Year','Quarter','Month','Week','Weekly_Sales','IsHoliday']]"
   ]
  },
  {
   "cell_type": "code",
   "execution_count": 163,
   "metadata": {},
   "outputs": [
    {
     "data": {
      "text/html": [
       "<div>\n",
       "<style scoped>\n",
       "    .dataframe tbody tr th:only-of-type {\n",
       "        vertical-align: middle;\n",
       "    }\n",
       "\n",
       "    .dataframe tbody tr th {\n",
       "        vertical-align: top;\n",
       "    }\n",
       "\n",
       "    .dataframe thead th {\n",
       "        text-align: right;\n",
       "    }\n",
       "</style>\n",
       "<table border=\"1\" class=\"dataframe\">\n",
       "  <thead>\n",
       "    <tr style=\"text-align: right;\">\n",
       "      <th></th>\n",
       "      <th>Store</th>\n",
       "      <th>Dept</th>\n",
       "      <th>Year</th>\n",
       "      <th>Quarter</th>\n",
       "      <th>Month</th>\n",
       "      <th>Week</th>\n",
       "      <th>Weekly_Sales</th>\n",
       "      <th>IsHoliday</th>\n",
       "    </tr>\n",
       "  </thead>\n",
       "  <tbody>\n",
       "    <tr>\n",
       "      <th>0</th>\n",
       "      <td>1</td>\n",
       "      <td>1</td>\n",
       "      <td>2010</td>\n",
       "      <td>1</td>\n",
       "      <td>2</td>\n",
       "      <td>5</td>\n",
       "      <td>24924.50</td>\n",
       "      <td>0</td>\n",
       "    </tr>\n",
       "    <tr>\n",
       "      <th>1</th>\n",
       "      <td>1</td>\n",
       "      <td>1</td>\n",
       "      <td>2010</td>\n",
       "      <td>1</td>\n",
       "      <td>2</td>\n",
       "      <td>6</td>\n",
       "      <td>46039.49</td>\n",
       "      <td>1</td>\n",
       "    </tr>\n",
       "  </tbody>\n",
       "</table>\n",
       "</div>"
      ],
      "text/plain": [
       "   Store  Dept  Year  Quarter  Month  Week  Weekly_Sales  IsHoliday\n",
       "0      1     1  2010        1      2     5      24924.50          0\n",
       "1      1     1  2010        1      2     6      46039.49          1"
      ]
     },
     "execution_count": 163,
     "metadata": {},
     "output_type": "execute_result"
    }
   ],
   "source": [
    "#data_processed.head(2)"
   ]
  },
  {
   "cell_type": "code",
   "execution_count": 175,
   "metadata": {},
   "outputs": [
    {
     "data": {
      "text/html": [
       "<div>\n",
       "<style scoped>\n",
       "    .dataframe tbody tr th:only-of-type {\n",
       "        vertical-align: middle;\n",
       "    }\n",
       "\n",
       "    .dataframe tbody tr th {\n",
       "        vertical-align: top;\n",
       "    }\n",
       "\n",
       "    .dataframe thead th {\n",
       "        text-align: right;\n",
       "    }\n",
       "</style>\n",
       "<table border=\"1\" class=\"dataframe\">\n",
       "  <thead>\n",
       "    <tr style=\"text-align: right;\">\n",
       "      <th></th>\n",
       "      <th>Store</th>\n",
       "      <th>Dept</th>\n",
       "      <th>Date</th>\n",
       "      <th>Weekly_Sales</th>\n",
       "      <th>IsHoliday</th>\n",
       "      <th>Previous Weeks Sales</th>\n",
       "      <th>Month</th>\n",
       "      <th>Quarter</th>\n",
       "      <th>Year</th>\n",
       "      <th>Week</th>\n",
       "    </tr>\n",
       "  </thead>\n",
       "  <tbody>\n",
       "    <tr>\n",
       "      <th>100</th>\n",
       "      <td>1</td>\n",
       "      <td>1</td>\n",
       "      <td>2012-01-06</td>\n",
       "      <td>16567.69</td>\n",
       "      <td>0</td>\n",
       "      <td>23350.88</td>\n",
       "      <td>1</td>\n",
       "      <td>1</td>\n",
       "      <td>2012</td>\n",
       "      <td>1</td>\n",
       "    </tr>\n",
       "    <tr>\n",
       "      <th>101</th>\n",
       "      <td>1</td>\n",
       "      <td>1</td>\n",
       "      <td>2012-01-13</td>\n",
       "      <td>16894.40</td>\n",
       "      <td>0</td>\n",
       "      <td>16567.69</td>\n",
       "      <td>1</td>\n",
       "      <td>1</td>\n",
       "      <td>2012</td>\n",
       "      <td>2</td>\n",
       "    </tr>\n",
       "    <tr>\n",
       "      <th>102</th>\n",
       "      <td>1</td>\n",
       "      <td>1</td>\n",
       "      <td>2012-01-20</td>\n",
       "      <td>18365.10</td>\n",
       "      <td>0</td>\n",
       "      <td>16894.40</td>\n",
       "      <td>1</td>\n",
       "      <td>1</td>\n",
       "      <td>2012</td>\n",
       "      <td>3</td>\n",
       "    </tr>\n",
       "  </tbody>\n",
       "</table>\n",
       "</div>"
      ],
      "text/plain": [
       "     Store  Dept       Date  Weekly_Sales  IsHoliday  Previous Weeks Sales  \\\n",
       "100      1     1 2012-01-06      16567.69          0              23350.88   \n",
       "101      1     1 2012-01-13      16894.40          0              16567.69   \n",
       "102      1     1 2012-01-20      18365.10          0              16894.40   \n",
       "\n",
       "     Month  Quarter  Year  Week  \n",
       "100      1        1  2012     1  \n",
       "101      1        1  2012     2  \n",
       "102      1        1  2012     3  "
      ]
     },
     "execution_count": 175,
     "metadata": {},
     "output_type": "execute_result"
    }
   ],
   "source": [
    "#train2012.head(3)"
   ]
  },
  {
   "cell_type": "code",
   "execution_count": 168,
   "metadata": {},
   "outputs": [],
   "source": [
    "#del year_2010['Year'],year_2011['Year'],year_2012['Year']"
   ]
  },
  {
   "cell_type": "code",
   "execution_count": 174,
   "metadata": {},
   "outputs": [
    {
     "data": {
      "text/html": [
       "<div>\n",
       "<style scoped>\n",
       "    .dataframe tbody tr th:only-of-type {\n",
       "        vertical-align: middle;\n",
       "    }\n",
       "\n",
       "    .dataframe tbody tr th {\n",
       "        vertical-align: top;\n",
       "    }\n",
       "\n",
       "    .dataframe thead th {\n",
       "        text-align: right;\n",
       "    }\n",
       "</style>\n",
       "<table border=\"1\" class=\"dataframe\">\n",
       "  <thead>\n",
       "    <tr style=\"text-align: right;\">\n",
       "      <th></th>\n",
       "      <th>Store</th>\n",
       "      <th>Dept</th>\n",
       "      <th>Year</th>\n",
       "      <th>Quarter</th>\n",
       "      <th>Month</th>\n",
       "      <th>Weekly_Sales</th>\n",
       "    </tr>\n",
       "  </thead>\n",
       "  <tbody>\n",
       "    <tr>\n",
       "      <th>0</th>\n",
       "      <td>1</td>\n",
       "      <td>1</td>\n",
       "      <td>2010</td>\n",
       "      <td>1</td>\n",
       "      <td>2</td>\n",
       "      <td>131963.08</td>\n",
       "    </tr>\n",
       "    <tr>\n",
       "      <th>1</th>\n",
       "      <td>1</td>\n",
       "      <td>1</td>\n",
       "      <td>2010</td>\n",
       "      <td>1</td>\n",
       "      <td>3</td>\n",
       "      <td>91237.14</td>\n",
       "    </tr>\n",
       "  </tbody>\n",
       "</table>\n",
       "</div>"
      ],
      "text/plain": [
       "   Store  Dept  Year  Quarter  Month  Weekly_Sales\n",
       "0      1     1  2010        1      2     131963.08\n",
       "1      1     1  2010        1      3      91237.14"
      ]
     },
     "execution_count": 174,
     "metadata": {},
     "output_type": "execute_result"
    }
   ],
   "source": [
    "#monthly.head(2)"
   ]
  },
  {
   "cell_type": "code",
   "execution_count": null,
   "metadata": {},
   "outputs": [],
   "source": [
    "#train2012.head(3)"
   ]
  },
  {
   "cell_type": "code",
   "execution_count": 225,
   "metadata": {},
   "outputs": [
    {
     "name": "stderr",
     "output_type": "stream",
     "text": [
      "/Users/dikshya/anaconda3/lib/python3.6/site-packages/ipykernel_launcher.py:1: SettingWithCopyWarning: \n",
      "A value is trying to be set on a copy of a slice from a DataFrame\n",
      "\n",
      "See the caveats in the documentation: http://pandas.pydata.org/pandas-docs/stable/indexing.html#indexing-view-versus-copy\n",
      "  \"\"\"Entry point for launching an IPython kernel.\n",
      "/Users/dikshya/anaconda3/lib/python3.6/site-packages/ipykernel_launcher.py:2: SettingWithCopyWarning: \n",
      "A value is trying to be set on a copy of a slice from a DataFrame\n",
      "\n",
      "See the caveats in the documentation: http://pandas.pydata.org/pandas-docs/stable/indexing.html#indexing-view-versus-copy\n",
      "  \n",
      "/Users/dikshya/anaconda3/lib/python3.6/site-packages/ipykernel_launcher.py:3: SettingWithCopyWarning: \n",
      "A value is trying to be set on a copy of a slice from a DataFrame\n",
      "\n",
      "See the caveats in the documentation: http://pandas.pydata.org/pandas-docs/stable/indexing.html#indexing-view-versus-copy\n",
      "  This is separate from the ipykernel package so we can avoid doing imports until\n"
     ]
    }
   ],
   "source": [
    "year_2010.drop(columns='Year',inplace=True)\n",
    "year_2011.drop(columns='Year',inplace=True)\n",
    "year_2012.drop(columns='Year',inplace=True)"
   ]
  },
  {
   "cell_type": "code",
   "execution_count": 226,
   "metadata": {
    "scrolled": true
   },
   "outputs": [
    {
     "name": "stdout",
     "output_type": "stream",
     "text": [
      "(33169, 5) (36484, 5) (30528, 5)\n"
     ]
    }
   ],
   "source": [
    "print(year_2010.shape,year_2011.shape,year_2012.shape)"
   ]
  },
  {
   "cell_type": "code",
   "execution_count": 229,
   "metadata": {},
   "outputs": [],
   "source": [
    "year_2012 = year_2012.merge(year_2010,on=['Store','Dept','Quarter','Month'],how='left')"
   ]
  },
  {
   "cell_type": "code",
   "execution_count": 230,
   "metadata": {},
   "outputs": [],
   "source": [
    "year_2012 = year_2012.merge(year_2011,on=['Store','Dept','Quarter','Month'],how='left')"
   ]
  },
  {
   "cell_type": "code",
   "execution_count": 231,
   "metadata": {},
   "outputs": [
    {
     "data": {
      "text/plain": [
       "(30528, 7)"
      ]
     },
     "execution_count": 231,
     "metadata": {},
     "output_type": "execute_result"
    }
   ],
   "source": [
    "year_2012.shape"
   ]
  },
  {
   "cell_type": "code",
   "execution_count": 234,
   "metadata": {
    "scrolled": true
   },
   "outputs": [
    {
     "data": {
      "text/plain": [
       "Store              0\n",
       "Dept               0\n",
       "Quarter            0\n",
       "Month              0\n",
       "Monthly_2012       0\n",
       "Monthly_2010    4152\n",
       "Monthly_2011     873\n",
       "dtype: int64"
      ]
     },
     "execution_count": 234,
     "metadata": {},
     "output_type": "execute_result"
    }
   ],
   "source": [
    "year_2012.isna().sum()"
   ]
  },
  {
   "cell_type": "code",
   "execution_count": 235,
   "metadata": {},
   "outputs": [],
   "source": [
    "#for now\n",
    "year_2012.fillna(0,inplace=True)"
   ]
  },
  {
   "cell_type": "code",
   "execution_count": null,
   "metadata": {},
   "outputs": [],
   "source": []
  },
  {
   "cell_type": "code",
   "execution_count": null,
   "metadata": {},
   "outputs": [],
   "source": []
  },
  {
   "cell_type": "code",
   "execution_count": null,
   "metadata": {},
   "outputs": [],
   "source": []
  },
  {
   "cell_type": "code",
   "execution_count": 237,
   "metadata": {},
   "outputs": [
    {
     "data": {
      "text/plain": [
       "(30528, 7)"
      ]
     },
     "execution_count": 237,
     "metadata": {},
     "output_type": "execute_result"
    }
   ],
   "source": [
    "year_2012.shape"
   ]
  },
  {
   "cell_type": "code",
   "execution_count": 239,
   "metadata": {},
   "outputs": [
    {
     "data": {
      "text/plain": [
       "Index(['Store', 'Dept', 'Quarter', 'Month', 'Monthly_2012', 'Monthly_2010',\n",
       "       'Monthly_2011'],\n",
       "      dtype='object')"
      ]
     },
     "execution_count": 239,
     "metadata": {},
     "output_type": "execute_result"
    }
   ],
   "source": [
    "year_2012.columns"
   ]
  },
  {
   "cell_type": "markdown",
   "metadata": {},
   "source": [
    "train2012 = train2012.merge(year_2010,on = ['Store','Dept','Quarter','Month'], how='left')\n",
    "train2012 = train2012.merge(year_2011,on = ['Store','Dept','Quarter','Month'], how='left')\n",
    "train2012 = train2012.merge(year_2012,on = ['Store','Dept','Quarter','Month'], how='left')"
   ]
  },
  {
   "cell_type": "code",
   "execution_count": 177,
   "metadata": {},
   "outputs": [
    {
     "data": {
      "text/plain": [
       "Index(['Store', 'Dept', 'Date', 'Weekly_Sales', 'IsHoliday',\n",
       "       'Previous Weeks Sales', 'Month', 'Quarter', 'Year', 'Week',\n",
       "       'Monthly_2010', 'Monthly_2011', 'Monthly_2012'],\n",
       "      dtype='object')"
      ]
     },
     "execution_count": 177,
     "metadata": {},
     "output_type": "execute_result"
    }
   ],
   "source": [
    "#train2012.columns"
   ]
  },
  {
   "cell_type": "code",
   "execution_count": 178,
   "metadata": {},
   "outputs": [
    {
     "data": {
      "text/html": [
       "<div>\n",
       "<style scoped>\n",
       "    .dataframe tbody tr th:only-of-type {\n",
       "        vertical-align: middle;\n",
       "    }\n",
       "\n",
       "    .dataframe tbody tr th {\n",
       "        vertical-align: top;\n",
       "    }\n",
       "\n",
       "    .dataframe thead th {\n",
       "        text-align: right;\n",
       "    }\n",
       "</style>\n",
       "<table border=\"1\" class=\"dataframe\">\n",
       "  <thead>\n",
       "    <tr style=\"text-align: right;\">\n",
       "      <th></th>\n",
       "      <th>Store</th>\n",
       "      <th>Dept</th>\n",
       "      <th>Date</th>\n",
       "      <th>Weekly_Sales</th>\n",
       "      <th>IsHoliday</th>\n",
       "      <th>Previous Weeks Sales</th>\n",
       "      <th>Month</th>\n",
       "      <th>Quarter</th>\n",
       "      <th>Year</th>\n",
       "      <th>Week</th>\n",
       "      <th>Monthly_2010</th>\n",
       "      <th>Monthly_2011</th>\n",
       "      <th>Monthly_2012</th>\n",
       "    </tr>\n",
       "  </thead>\n",
       "  <tbody>\n",
       "    <tr>\n",
       "      <th>0</th>\n",
       "      <td>1</td>\n",
       "      <td>1</td>\n",
       "      <td>2012-01-06</td>\n",
       "      <td>16567.69</td>\n",
       "      <td>0</td>\n",
       "      <td>23350.88</td>\n",
       "      <td>1</td>\n",
       "      <td>1</td>\n",
       "      <td>2012</td>\n",
       "      <td>1</td>\n",
       "      <td>NaN</td>\n",
       "      <td>69146.59</td>\n",
       "      <td>70205.35</td>\n",
       "    </tr>\n",
       "    <tr>\n",
       "      <th>1</th>\n",
       "      <td>1</td>\n",
       "      <td>1</td>\n",
       "      <td>2012-01-13</td>\n",
       "      <td>16894.40</td>\n",
       "      <td>0</td>\n",
       "      <td>16567.69</td>\n",
       "      <td>1</td>\n",
       "      <td>1</td>\n",
       "      <td>2012</td>\n",
       "      <td>2</td>\n",
       "      <td>NaN</td>\n",
       "      <td>69146.59</td>\n",
       "      <td>70205.35</td>\n",
       "    </tr>\n",
       "  </tbody>\n",
       "</table>\n",
       "</div>"
      ],
      "text/plain": [
       "   Store  Dept       Date  Weekly_Sales  IsHoliday  Previous Weeks Sales  \\\n",
       "0      1     1 2012-01-06      16567.69          0              23350.88   \n",
       "1      1     1 2012-01-13      16894.40          0              16567.69   \n",
       "\n",
       "   Month  Quarter  Year  Week  Monthly_2010  Monthly_2011  Monthly_2012  \n",
       "0      1        1  2012     1           NaN      69146.59      70205.35  \n",
       "1      1        1  2012     2           NaN      69146.59      70205.35  "
      ]
     },
     "execution_count": 178,
     "metadata": {},
     "output_type": "execute_result"
    }
   ],
   "source": [
    "#train2012.head(2)"
   ]
  },
  {
   "cell_type": "code",
   "execution_count": 179,
   "metadata": {},
   "outputs": [],
   "source": [
    "#data_processed.fillna(0,inplace=True)"
   ]
  },
  {
   "cell_type": "code",
   "execution_count": null,
   "metadata": {},
   "outputs": [],
   "source": []
  },
  {
   "cell_type": "code",
   "execution_count": 242,
   "metadata": {},
   "outputs": [],
   "source": [
    "X = year_2012[['Store', 'Dept', 'Quarter', 'Month','Monthly_2010',\n",
    "       'Monthly_2011']]\n",
    "Y = year_2012[['Monthly_2012']]"
   ]
  },
  {
   "cell_type": "code",
   "execution_count": 243,
   "metadata": {},
   "outputs": [],
   "source": [
    "from sklearn.model_selection import train_test_split"
   ]
  },
  {
   "cell_type": "code",
   "execution_count": 244,
   "metadata": {
    "scrolled": true
   },
   "outputs": [],
   "source": [
    "X_train, X_test, y_train, y_test = train_test_split(X, Y, test_size=0.20, random_state=42)"
   ]
  },
  {
   "cell_type": "code",
   "execution_count": null,
   "metadata": {},
   "outputs": [],
   "source": []
  },
  {
   "cell_type": "markdown",
   "metadata": {},
   "source": [
    "model = OLS(X_train,y_train)\n",
    "results = model.fit()\n",
    "print(results.summary())"
   ]
  },
  {
   "cell_type": "markdown",
   "metadata": {},
   "source": [
    "pred = results.predict(X_test)"
   ]
  },
  {
   "cell_type": "markdown",
   "metadata": {},
   "source": [
    "from sklearn.metrics import r2_score"
   ]
  },
  {
   "cell_type": "markdown",
   "metadata": {},
   "source": [
    "pred"
   ]
  },
  {
   "cell_type": "markdown",
   "metadata": {},
   "source": [
    "y_test.values"
   ]
  },
  {
   "cell_type": "markdown",
   "metadata": {},
   "source": [
    "#mean_squared_error(y_test.values,pred)\n",
    "r2_score(y_test.values,pred)"
   ]
  },
  {
   "cell_type": "markdown",
   "metadata": {},
   "source": [
    "model = LinearRegression().fit(X_train,y_train)\n"
   ]
  },
  {
   "cell_type": "markdown",
   "metadata": {},
   "source": [
    "pred_lr = model.predict(X_test)"
   ]
  },
  {
   "cell_type": "markdown",
   "metadata": {},
   "source": [
    "r2_score(y_test,pred_lr)"
   ]
  },
  {
   "cell_type": "code",
   "execution_count": 245,
   "metadata": {},
   "outputs": [
    {
     "name": "stderr",
     "output_type": "stream",
     "text": [
      "/Users/dikshya/anaconda3/lib/python3.6/site-packages/ipykernel_launcher.py:2: DataConversionWarning: A column-vector y was passed when a 1d array was expected. Please change the shape of y to (n_samples,), for example using ravel().\n",
      "  \n"
     ]
    }
   ],
   "source": [
    "rfr = RandomForestRegressor(n_estimators = 250, random_state=0)               #RandomForestRegressor\n",
    "rfr.fit(X_train,y_train)\n",
    "y_pred=rfr.predict(X_test)"
   ]
  },
  {
   "cell_type": "code",
   "execution_count": 251,
   "metadata": {},
   "outputs": [
    {
     "name": "stdout",
     "output_type": "stream",
     "text": [
      "11743.345130800535\n",
      "0.9842314792124602\n"
     ]
    }
   ],
   "source": [
    "print(np.sqrt(metrics.mean_squared_error(y_test, y_pred)))\n",
    "print(metrics.r2_score(y_test, y_pred))\n",
    "\n"
   ]
  },
  {
   "cell_type": "code",
   "execution_count": 249,
   "metadata": {},
   "outputs": [],
   "source": [
    "feature_importances = pd.DataFrame(rfr.feature_importances_,\n",
    "                                   index = X_train.columns,\n",
    "                                    columns=['importance']).sort_values('importance',ascending=False)"
   ]
  },
  {
   "cell_type": "code",
   "execution_count": 250,
   "metadata": {},
   "outputs": [
    {
     "data": {
      "text/html": [
       "<div>\n",
       "<style scoped>\n",
       "    .dataframe tbody tr th:only-of-type {\n",
       "        vertical-align: middle;\n",
       "    }\n",
       "\n",
       "    .dataframe tbody tr th {\n",
       "        vertical-align: top;\n",
       "    }\n",
       "\n",
       "    .dataframe thead th {\n",
       "        text-align: right;\n",
       "    }\n",
       "</style>\n",
       "<table border=\"1\" class=\"dataframe\">\n",
       "  <thead>\n",
       "    <tr style=\"text-align: right;\">\n",
       "      <th></th>\n",
       "      <th>importance</th>\n",
       "    </tr>\n",
       "  </thead>\n",
       "  <tbody>\n",
       "    <tr>\n",
       "      <th>Monthly_2011</th>\n",
       "      <td>0.953367</td>\n",
       "    </tr>\n",
       "    <tr>\n",
       "      <th>Month</th>\n",
       "      <td>0.025392</td>\n",
       "    </tr>\n",
       "    <tr>\n",
       "      <th>Monthly_2010</th>\n",
       "      <td>0.006740</td>\n",
       "    </tr>\n",
       "    <tr>\n",
       "      <th>Quarter</th>\n",
       "      <td>0.005499</td>\n",
       "    </tr>\n",
       "    <tr>\n",
       "      <th>Store</th>\n",
       "      <td>0.004578</td>\n",
       "    </tr>\n",
       "    <tr>\n",
       "      <th>Dept</th>\n",
       "      <td>0.004425</td>\n",
       "    </tr>\n",
       "  </tbody>\n",
       "</table>\n",
       "</div>"
      ],
      "text/plain": [
       "              importance\n",
       "Monthly_2011    0.953367\n",
       "Month           0.025392\n",
       "Monthly_2010    0.006740\n",
       "Quarter         0.005499\n",
       "Store           0.004578\n",
       "Dept            0.004425"
      ]
     },
     "execution_count": 250,
     "metadata": {},
     "output_type": "execute_result"
    }
   ],
   "source": [
    "feature_importances"
   ]
  },
  {
   "cell_type": "code",
   "execution_count": 254,
   "metadata": {
    "scrolled": true
   },
   "outputs": [
    {
     "data": {
      "text/html": [
       "<div>\n",
       "<style scoped>\n",
       "    .dataframe tbody tr th:only-of-type {\n",
       "        vertical-align: middle;\n",
       "    }\n",
       "\n",
       "    .dataframe tbody tr th {\n",
       "        vertical-align: top;\n",
       "    }\n",
       "\n",
       "    .dataframe thead th {\n",
       "        text-align: right;\n",
       "    }\n",
       "</style>\n",
       "<table border=\"1\" class=\"dataframe\">\n",
       "  <thead>\n",
       "    <tr style=\"text-align: right;\">\n",
       "      <th></th>\n",
       "      <th>Store</th>\n",
       "      <th>Dept</th>\n",
       "      <th>Quarter</th>\n",
       "      <th>Month</th>\n",
       "      <th>Monthly_2010</th>\n",
       "      <th>Monthly_2011</th>\n",
       "    </tr>\n",
       "  </thead>\n",
       "  <tbody>\n",
       "    <tr>\n",
       "      <th>7934</th>\n",
       "      <td>12</td>\n",
       "      <td>21</td>\n",
       "      <td>2</td>\n",
       "      <td>4</td>\n",
       "      <td>21748.15</td>\n",
       "      <td>22075.16</td>\n",
       "    </tr>\n",
       "  </tbody>\n",
       "</table>\n",
       "</div>"
      ],
      "text/plain": [
       "      Store  Dept  Quarter  Month  Monthly_2010  Monthly_2011\n",
       "7934     12    21        2      4      21748.15      22075.16"
      ]
     },
     "execution_count": 254,
     "metadata": {},
     "output_type": "execute_result"
    }
   ],
   "source": [
    "X_test[:1]"
   ]
  },
  {
   "cell_type": "code",
   "execution_count": 255,
   "metadata": {},
   "outputs": [],
   "source": [
    "nov_data = pd.read_excel('Test_data.xlsx')"
   ]
  },
  {
   "cell_type": "code",
   "execution_count": 256,
   "metadata": {},
   "outputs": [
    {
     "data": {
      "text/html": [
       "<div>\n",
       "<style scoped>\n",
       "    .dataframe tbody tr th:only-of-type {\n",
       "        vertical-align: middle;\n",
       "    }\n",
       "\n",
       "    .dataframe tbody tr th {\n",
       "        vertical-align: top;\n",
       "    }\n",
       "\n",
       "    .dataframe thead th {\n",
       "        text-align: right;\n",
       "    }\n",
       "</style>\n",
       "<table border=\"1\" class=\"dataframe\">\n",
       "  <thead>\n",
       "    <tr style=\"text-align: right;\">\n",
       "      <th></th>\n",
       "      <th>Store</th>\n",
       "      <th>Dept</th>\n",
       "      <th>Month</th>\n",
       "      <th>Quarter</th>\n",
       "    </tr>\n",
       "  </thead>\n",
       "  <tbody>\n",
       "    <tr>\n",
       "      <th>0</th>\n",
       "      <td>1</td>\n",
       "      <td>1</td>\n",
       "      <td>11</td>\n",
       "      <td>4</td>\n",
       "    </tr>\n",
       "    <tr>\n",
       "      <th>1</th>\n",
       "      <td>1</td>\n",
       "      <td>2</td>\n",
       "      <td>11</td>\n",
       "      <td>4</td>\n",
       "    </tr>\n",
       "  </tbody>\n",
       "</table>\n",
       "</div>"
      ],
      "text/plain": [
       "   Store  Dept  Month  Quarter\n",
       "0      1     1     11        4\n",
       "1      1     2     11        4"
      ]
     },
     "execution_count": 256,
     "metadata": {},
     "output_type": "execute_result"
    }
   ],
   "source": [
    "nov_data.head(2)"
   ]
  },
  {
   "cell_type": "code",
   "execution_count": 258,
   "metadata": {},
   "outputs": [
    {
     "data": {
      "text/plain": [
       "(3040, 4)"
      ]
     },
     "execution_count": 258,
     "metadata": {},
     "output_type": "execute_result"
    }
   ],
   "source": [
    "nov_data.shape"
   ]
  },
  {
   "cell_type": "code",
   "execution_count": 259,
   "metadata": {
    "scrolled": true
   },
   "outputs": [
    {
     "name": "stdout",
     "output_type": "stream",
     "text": [
      "(33169, 5) (36484, 5) (3040, 4)\n"
     ]
    }
   ],
   "source": [
    "print(year_2010.shape,year_2011.shape,nov_data.shape)"
   ]
  },
  {
   "cell_type": "code",
   "execution_count": 260,
   "metadata": {},
   "outputs": [],
   "source": [
    "nov_data = nov_data.merge(year_2010,on=['Store','Dept','Quarter','Month'],how='left')"
   ]
  },
  {
   "cell_type": "code",
   "execution_count": 261,
   "metadata": {},
   "outputs": [],
   "source": [
    "nov_data = nov_data.merge(year_2011,on=['Store','Dept','Quarter','Month'],how='left')"
   ]
  },
  {
   "cell_type": "code",
   "execution_count": 263,
   "metadata": {
    "scrolled": true
   },
   "outputs": [
    {
     "data": {
      "text/html": [
       "<div>\n",
       "<style scoped>\n",
       "    .dataframe tbody tr th:only-of-type {\n",
       "        vertical-align: middle;\n",
       "    }\n",
       "\n",
       "    .dataframe tbody tr th {\n",
       "        vertical-align: top;\n",
       "    }\n",
       "\n",
       "    .dataframe thead th {\n",
       "        text-align: right;\n",
       "    }\n",
       "</style>\n",
       "<table border=\"1\" class=\"dataframe\">\n",
       "  <thead>\n",
       "    <tr style=\"text-align: right;\">\n",
       "      <th></th>\n",
       "      <th>Store</th>\n",
       "      <th>Dept</th>\n",
       "      <th>Month</th>\n",
       "      <th>Quarter</th>\n",
       "      <th>Monthly_2010</th>\n",
       "      <th>Monthly_2011</th>\n",
       "    </tr>\n",
       "  </thead>\n",
       "  <tbody>\n",
       "    <tr>\n",
       "      <th>0</th>\n",
       "      <td>1</td>\n",
       "      <td>1</td>\n",
       "      <td>11</td>\n",
       "      <td>4</td>\n",
       "      <td>92161.40</td>\n",
       "      <td>98537.51</td>\n",
       "    </tr>\n",
       "    <tr>\n",
       "      <th>1</th>\n",
       "      <td>1</td>\n",
       "      <td>2</td>\n",
       "      <td>11</td>\n",
       "      <td>4</td>\n",
       "      <td>176701.15</td>\n",
       "      <td>180507.46</td>\n",
       "    </tr>\n",
       "    <tr>\n",
       "      <th>2</th>\n",
       "      <td>1</td>\n",
       "      <td>3</td>\n",
       "      <td>11</td>\n",
       "      <td>4</td>\n",
       "      <td>38880.91</td>\n",
       "      <td>38570.76</td>\n",
       "    </tr>\n",
       "  </tbody>\n",
       "</table>\n",
       "</div>"
      ],
      "text/plain": [
       "   Store  Dept  Month  Quarter  Monthly_2010  Monthly_2011\n",
       "0      1     1     11        4      92161.40      98537.51\n",
       "1      1     2     11        4     176701.15     180507.46\n",
       "2      1     3     11        4      38880.91      38570.76"
      ]
     },
     "execution_count": 263,
     "metadata": {},
     "output_type": "execute_result"
    }
   ],
   "source": [
    "nov_data.head(3)"
   ]
  },
  {
   "cell_type": "code",
   "execution_count": 264,
   "metadata": {},
   "outputs": [],
   "source": [
    "nov_data.fillna(0,inplace=True)"
   ]
  },
  {
   "cell_type": "code",
   "execution_count": 266,
   "metadata": {},
   "outputs": [],
   "source": [
    "nov_data['Monthly_2012'] = rfr.predict(nov_data)"
   ]
  },
  {
   "cell_type": "code",
   "execution_count": 268,
   "metadata": {},
   "outputs": [],
   "source": [
    "nov_data.to_csv('Q1_PredictionsNOV2012.csv',index=False)"
   ]
  },
  {
   "cell_type": "code",
   "execution_count": 93,
   "metadata": {},
   "outputs": [],
   "source": [
    "#data_processed = data[['Store','Dept','Year','Quarter','Month','Week','Weekly_Sales','IsHoliday']]"
   ]
  },
  {
   "cell_type": "code",
   "execution_count": 108,
   "metadata": {},
   "outputs": [],
   "source": [
    "del nov_data['IsHoliday']"
   ]
  },
  {
   "cell_type": "code",
   "execution_count": 111,
   "metadata": {
    "scrolled": true
   },
   "outputs": [],
   "source": [
    "nov_data = nov_data.merge(year_2010,on = ['Store','Dept','Quarter','Month'], how='left')\n",
    "#data_processed = data_processed.merge(year_2011,on = ['Store','Dept','Year','Quarter','Month'], how='left')\n",
    "#data_processed = data_processed.merge(year_2012,on = ['Store','Dept','Year','Quarter','Month'], how='left')"
   ]
  },
  {
   "cell_type": "code",
   "execution_count": 270,
   "metadata": {
    "collapsed": true
   },
   "outputs": [
    {
     "data": {
      "text/html": [
       "<div>\n",
       "<style scoped>\n",
       "    .dataframe tbody tr th:only-of-type {\n",
       "        vertical-align: middle;\n",
       "    }\n",
       "\n",
       "    .dataframe tbody tr th {\n",
       "        vertical-align: top;\n",
       "    }\n",
       "\n",
       "    .dataframe thead th {\n",
       "        text-align: right;\n",
       "    }\n",
       "</style>\n",
       "<table border=\"1\" class=\"dataframe\">\n",
       "  <thead>\n",
       "    <tr style=\"text-align: right;\">\n",
       "      <th></th>\n",
       "      <th>Store</th>\n",
       "      <th>Dept</th>\n",
       "      <th>Month</th>\n",
       "      <th>Quarter</th>\n",
       "      <th>Monthly_2010</th>\n",
       "      <th>Monthly_2011</th>\n",
       "      <th>Monthly_2012</th>\n",
       "    </tr>\n",
       "  </thead>\n",
       "  <tbody>\n",
       "    <tr>\n",
       "      <th>0</th>\n",
       "      <td>1</td>\n",
       "      <td>1</td>\n",
       "      <td>11</td>\n",
       "      <td>4</td>\n",
       "      <td>92161.40</td>\n",
       "      <td>98537.51</td>\n",
       "      <td>83484.82976</td>\n",
       "    </tr>\n",
       "    <tr>\n",
       "      <th>1</th>\n",
       "      <td>1</td>\n",
       "      <td>2</td>\n",
       "      <td>11</td>\n",
       "      <td>4</td>\n",
       "      <td>176701.15</td>\n",
       "      <td>180507.46</td>\n",
       "      <td>155313.28864</td>\n",
       "    </tr>\n",
       "    <tr>\n",
       "      <th>2</th>\n",
       "      <td>1</td>\n",
       "      <td>3</td>\n",
       "      <td>11</td>\n",
       "      <td>4</td>\n",
       "      <td>38880.91</td>\n",
       "      <td>38570.76</td>\n",
       "      <td>36524.57328</td>\n",
       "    </tr>\n",
       "    <tr>\n",
       "      <th>3</th>\n",
       "      <td>1</td>\n",
       "      <td>4</td>\n",
       "      <td>11</td>\n",
       "      <td>4</td>\n",
       "      <td>156268.46</td>\n",
       "      <td>160402.08</td>\n",
       "      <td>127444.01984</td>\n",
       "    </tr>\n",
       "    <tr>\n",
       "      <th>4</th>\n",
       "      <td>1</td>\n",
       "      <td>5</td>\n",
       "      <td>11</td>\n",
       "      <td>4</td>\n",
       "      <td>142478.05</td>\n",
       "      <td>169638.24</td>\n",
       "      <td>145065.33752</td>\n",
       "    </tr>\n",
       "    <tr>\n",
       "      <th>5</th>\n",
       "      <td>1</td>\n",
       "      <td>6</td>\n",
       "      <td>11</td>\n",
       "      <td>4</td>\n",
       "      <td>32956.67</td>\n",
       "      <td>31021.46</td>\n",
       "      <td>22745.07220</td>\n",
       "    </tr>\n",
       "    <tr>\n",
       "      <th>6</th>\n",
       "      <td>1</td>\n",
       "      <td>7</td>\n",
       "      <td>11</td>\n",
       "      <td>4</td>\n",
       "      <td>137105.06</td>\n",
       "      <td>143229.81</td>\n",
       "      <td>117768.85564</td>\n",
       "    </tr>\n",
       "    <tr>\n",
       "      <th>7</th>\n",
       "      <td>1</td>\n",
       "      <td>8</td>\n",
       "      <td>11</td>\n",
       "      <td>4</td>\n",
       "      <td>141569.01</td>\n",
       "      <td>137376.40</td>\n",
       "      <td>112112.37036</td>\n",
       "    </tr>\n",
       "    <tr>\n",
       "      <th>8</th>\n",
       "      <td>1</td>\n",
       "      <td>9</td>\n",
       "      <td>11</td>\n",
       "      <td>4</td>\n",
       "      <td>158027.59</td>\n",
       "      <td>159507.21</td>\n",
       "      <td>128358.55368</td>\n",
       "    </tr>\n",
       "    <tr>\n",
       "      <th>9</th>\n",
       "      <td>1</td>\n",
       "      <td>10</td>\n",
       "      <td>11</td>\n",
       "      <td>4</td>\n",
       "      <td>114989.47</td>\n",
       "      <td>122826.34</td>\n",
       "      <td>104405.69812</td>\n",
       "    </tr>\n",
       "    <tr>\n",
       "      <th>10</th>\n",
       "      <td>1</td>\n",
       "      <td>11</td>\n",
       "      <td>11</td>\n",
       "      <td>4</td>\n",
       "      <td>101053.04</td>\n",
       "      <td>100740.09</td>\n",
       "      <td>85996.06764</td>\n",
       "    </tr>\n",
       "    <tr>\n",
       "      <th>11</th>\n",
       "      <td>1</td>\n",
       "      <td>12</td>\n",
       "      <td>11</td>\n",
       "      <td>4</td>\n",
       "      <td>38264.27</td>\n",
       "      <td>37869.91</td>\n",
       "      <td>34193.86236</td>\n",
       "    </tr>\n",
       "    <tr>\n",
       "      <th>12</th>\n",
       "      <td>1</td>\n",
       "      <td>13</td>\n",
       "      <td>11</td>\n",
       "      <td>4</td>\n",
       "      <td>154721.26</td>\n",
       "      <td>154866.81</td>\n",
       "      <td>125615.25744</td>\n",
       "    </tr>\n",
       "    <tr>\n",
       "      <th>13</th>\n",
       "      <td>1</td>\n",
       "      <td>14</td>\n",
       "      <td>11</td>\n",
       "      <td>4</td>\n",
       "      <td>85975.15</td>\n",
       "      <td>86115.64</td>\n",
       "      <td>77102.19768</td>\n",
       "    </tr>\n",
       "    <tr>\n",
       "      <th>14</th>\n",
       "      <td>1</td>\n",
       "      <td>16</td>\n",
       "      <td>11</td>\n",
       "      <td>4</td>\n",
       "      <td>27935.90</td>\n",
       "      <td>25518.48</td>\n",
       "      <td>21366.37276</td>\n",
       "    </tr>\n",
       "    <tr>\n",
       "      <th>15</th>\n",
       "      <td>1</td>\n",
       "      <td>17</td>\n",
       "      <td>11</td>\n",
       "      <td>4</td>\n",
       "      <td>41278.51</td>\n",
       "      <td>36965.26</td>\n",
       "      <td>32147.76624</td>\n",
       "    </tr>\n",
       "    <tr>\n",
       "      <th>16</th>\n",
       "      <td>1</td>\n",
       "      <td>18</td>\n",
       "      <td>11</td>\n",
       "      <td>4</td>\n",
       "      <td>69964.93</td>\n",
       "      <td>69007.12</td>\n",
       "      <td>59776.90004</td>\n",
       "    </tr>\n",
       "    <tr>\n",
       "      <th>17</th>\n",
       "      <td>1</td>\n",
       "      <td>19</td>\n",
       "      <td>11</td>\n",
       "      <td>4</td>\n",
       "      <td>5965.16</td>\n",
       "      <td>3378.17</td>\n",
       "      <td>3691.24596</td>\n",
       "    </tr>\n",
       "    <tr>\n",
       "      <th>18</th>\n",
       "      <td>1</td>\n",
       "      <td>20</td>\n",
       "      <td>11</td>\n",
       "      <td>4</td>\n",
       "      <td>14950.31</td>\n",
       "      <td>14409.38</td>\n",
       "      <td>11826.85644</td>\n",
       "    </tr>\n",
       "    <tr>\n",
       "      <th>19</th>\n",
       "      <td>1</td>\n",
       "      <td>21</td>\n",
       "      <td>11</td>\n",
       "      <td>4</td>\n",
       "      <td>32065.35</td>\n",
       "      <td>35505.66</td>\n",
       "      <td>30808.74604</td>\n",
       "    </tr>\n",
       "    <tr>\n",
       "      <th>20</th>\n",
       "      <td>1</td>\n",
       "      <td>22</td>\n",
       "      <td>11</td>\n",
       "      <td>4</td>\n",
       "      <td>38914.76</td>\n",
       "      <td>43193.76</td>\n",
       "      <td>34763.94656</td>\n",
       "    </tr>\n",
       "    <tr>\n",
       "      <th>21</th>\n",
       "      <td>1</td>\n",
       "      <td>23</td>\n",
       "      <td>11</td>\n",
       "      <td>4</td>\n",
       "      <td>104222.00</td>\n",
       "      <td>96161.73</td>\n",
       "      <td>76076.40536</td>\n",
       "    </tr>\n",
       "    <tr>\n",
       "      <th>22</th>\n",
       "      <td>1</td>\n",
       "      <td>24</td>\n",
       "      <td>11</td>\n",
       "      <td>4</td>\n",
       "      <td>32342.62</td>\n",
       "      <td>27926.81</td>\n",
       "      <td>23527.73648</td>\n",
       "    </tr>\n",
       "    <tr>\n",
       "      <th>23</th>\n",
       "      <td>1</td>\n",
       "      <td>25</td>\n",
       "      <td>11</td>\n",
       "      <td>4</td>\n",
       "      <td>41539.49</td>\n",
       "      <td>42263.43</td>\n",
       "      <td>34598.38156</td>\n",
       "    </tr>\n",
       "    <tr>\n",
       "      <th>24</th>\n",
       "      <td>1</td>\n",
       "      <td>26</td>\n",
       "      <td>11</td>\n",
       "      <td>4</td>\n",
       "      <td>37686.20</td>\n",
       "      <td>31280.33</td>\n",
       "      <td>26061.59996</td>\n",
       "    </tr>\n",
       "    <tr>\n",
       "      <th>25</th>\n",
       "      <td>1</td>\n",
       "      <td>27</td>\n",
       "      <td>11</td>\n",
       "      <td>4</td>\n",
       "      <td>7112.70</td>\n",
       "      <td>7586.17</td>\n",
       "      <td>6934.93476</td>\n",
       "    </tr>\n",
       "    <tr>\n",
       "      <th>26</th>\n",
       "      <td>1</td>\n",
       "      <td>28</td>\n",
       "      <td>11</td>\n",
       "      <td>4</td>\n",
       "      <td>3754.12</td>\n",
       "      <td>2929.19</td>\n",
       "      <td>3893.52668</td>\n",
       "    </tr>\n",
       "    <tr>\n",
       "      <th>27</th>\n",
       "      <td>1</td>\n",
       "      <td>29</td>\n",
       "      <td>11</td>\n",
       "      <td>4</td>\n",
       "      <td>21956.12</td>\n",
       "      <td>19531.55</td>\n",
       "      <td>16341.72136</td>\n",
       "    </tr>\n",
       "    <tr>\n",
       "      <th>28</th>\n",
       "      <td>1</td>\n",
       "      <td>30</td>\n",
       "      <td>11</td>\n",
       "      <td>4</td>\n",
       "      <td>11397.52</td>\n",
       "      <td>10438.30</td>\n",
       "      <td>9141.84296</td>\n",
       "    </tr>\n",
       "    <tr>\n",
       "      <th>29</th>\n",
       "      <td>1</td>\n",
       "      <td>31</td>\n",
       "      <td>11</td>\n",
       "      <td>4</td>\n",
       "      <td>9398.80</td>\n",
       "      <td>6387.85</td>\n",
       "      <td>6746.88876</td>\n",
       "    </tr>\n",
       "    <tr>\n",
       "      <th>...</th>\n",
       "      <td>...</td>\n",
       "      <td>...</td>\n",
       "      <td>...</td>\n",
       "      <td>...</td>\n",
       "      <td>...</td>\n",
       "      <td>...</td>\n",
       "      <td>...</td>\n",
       "    </tr>\n",
       "    <tr>\n",
       "      <th>3010</th>\n",
       "      <td>45</td>\n",
       "      <td>42</td>\n",
       "      <td>11</td>\n",
       "      <td>4</td>\n",
       "      <td>17019.12</td>\n",
       "      <td>19961.20</td>\n",
       "      <td>18017.82068</td>\n",
       "    </tr>\n",
       "    <tr>\n",
       "      <th>3011</th>\n",
       "      <td>45</td>\n",
       "      <td>44</td>\n",
       "      <td>11</td>\n",
       "      <td>4</td>\n",
       "      <td>11407.92</td>\n",
       "      <td>12209.25</td>\n",
       "      <td>9331.93532</td>\n",
       "    </tr>\n",
       "    <tr>\n",
       "      <th>3012</th>\n",
       "      <td>45</td>\n",
       "      <td>45</td>\n",
       "      <td>11</td>\n",
       "      <td>4</td>\n",
       "      <td>5.47</td>\n",
       "      <td>0.00</td>\n",
       "      <td>36.48420</td>\n",
       "    </tr>\n",
       "    <tr>\n",
       "      <th>3013</th>\n",
       "      <td>45</td>\n",
       "      <td>46</td>\n",
       "      <td>11</td>\n",
       "      <td>4</td>\n",
       "      <td>60039.72</td>\n",
       "      <td>51895.79</td>\n",
       "      <td>44613.45528</td>\n",
       "    </tr>\n",
       "    <tr>\n",
       "      <th>3014</th>\n",
       "      <td>45</td>\n",
       "      <td>52</td>\n",
       "      <td>11</td>\n",
       "      <td>4</td>\n",
       "      <td>6097.60</td>\n",
       "      <td>6690.49</td>\n",
       "      <td>7701.95520</td>\n",
       "    </tr>\n",
       "    <tr>\n",
       "      <th>3015</th>\n",
       "      <td>45</td>\n",
       "      <td>54</td>\n",
       "      <td>11</td>\n",
       "      <td>4</td>\n",
       "      <td>234.15</td>\n",
       "      <td>126.52</td>\n",
       "      <td>61.94128</td>\n",
       "    </tr>\n",
       "    <tr>\n",
       "      <th>3016</th>\n",
       "      <td>45</td>\n",
       "      <td>55</td>\n",
       "      <td>11</td>\n",
       "      <td>4</td>\n",
       "      <td>52789.14</td>\n",
       "      <td>60236.80</td>\n",
       "      <td>49950.38276</td>\n",
       "    </tr>\n",
       "    <tr>\n",
       "      <th>3017</th>\n",
       "      <td>45</td>\n",
       "      <td>56</td>\n",
       "      <td>11</td>\n",
       "      <td>4</td>\n",
       "      <td>1693.14</td>\n",
       "      <td>1408.99</td>\n",
       "      <td>2055.40792</td>\n",
       "    </tr>\n",
       "    <tr>\n",
       "      <th>3018</th>\n",
       "      <td>45</td>\n",
       "      <td>58</td>\n",
       "      <td>11</td>\n",
       "      <td>4</td>\n",
       "      <td>7063.00</td>\n",
       "      <td>3490.00</td>\n",
       "      <td>4993.36092</td>\n",
       "    </tr>\n",
       "    <tr>\n",
       "      <th>3019</th>\n",
       "      <td>45</td>\n",
       "      <td>59</td>\n",
       "      <td>11</td>\n",
       "      <td>4</td>\n",
       "      <td>6587.20</td>\n",
       "      <td>1682.27</td>\n",
       "      <td>5854.24404</td>\n",
       "    </tr>\n",
       "    <tr>\n",
       "      <th>3020</th>\n",
       "      <td>45</td>\n",
       "      <td>60</td>\n",
       "      <td>11</td>\n",
       "      <td>4</td>\n",
       "      <td>464.60</td>\n",
       "      <td>624.80</td>\n",
       "      <td>622.45804</td>\n",
       "    </tr>\n",
       "    <tr>\n",
       "      <th>3021</th>\n",
       "      <td>45</td>\n",
       "      <td>67</td>\n",
       "      <td>11</td>\n",
       "      <td>4</td>\n",
       "      <td>23546.51</td>\n",
       "      <td>25241.77</td>\n",
       "      <td>21705.37152</td>\n",
       "    </tr>\n",
       "    <tr>\n",
       "      <th>3022</th>\n",
       "      <td>45</td>\n",
       "      <td>71</td>\n",
       "      <td>11</td>\n",
       "      <td>4</td>\n",
       "      <td>19865.21</td>\n",
       "      <td>22851.14</td>\n",
       "      <td>17141.25384</td>\n",
       "    </tr>\n",
       "    <tr>\n",
       "      <th>3023</th>\n",
       "      <td>45</td>\n",
       "      <td>72</td>\n",
       "      <td>11</td>\n",
       "      <td>4</td>\n",
       "      <td>343154.71</td>\n",
       "      <td>343995.45</td>\n",
       "      <td>273496.87412</td>\n",
       "    </tr>\n",
       "    <tr>\n",
       "      <th>3024</th>\n",
       "      <td>45</td>\n",
       "      <td>74</td>\n",
       "      <td>11</td>\n",
       "      <td>4</td>\n",
       "      <td>47163.39</td>\n",
       "      <td>45974.39</td>\n",
       "      <td>36685.31556</td>\n",
       "    </tr>\n",
       "    <tr>\n",
       "      <th>3025</th>\n",
       "      <td>45</td>\n",
       "      <td>79</td>\n",
       "      <td>11</td>\n",
       "      <td>4</td>\n",
       "      <td>59700.88</td>\n",
       "      <td>63327.32</td>\n",
       "      <td>53650.59376</td>\n",
       "    </tr>\n",
       "    <tr>\n",
       "      <th>3026</th>\n",
       "      <td>45</td>\n",
       "      <td>80</td>\n",
       "      <td>11</td>\n",
       "      <td>4</td>\n",
       "      <td>115.11</td>\n",
       "      <td>3686.60</td>\n",
       "      <td>3441.04160</td>\n",
       "    </tr>\n",
       "    <tr>\n",
       "      <th>3027</th>\n",
       "      <td>45</td>\n",
       "      <td>81</td>\n",
       "      <td>11</td>\n",
       "      <td>4</td>\n",
       "      <td>60772.26</td>\n",
       "      <td>56339.97</td>\n",
       "      <td>47663.31224</td>\n",
       "    </tr>\n",
       "    <tr>\n",
       "      <th>3028</th>\n",
       "      <td>45</td>\n",
       "      <td>82</td>\n",
       "      <td>11</td>\n",
       "      <td>4</td>\n",
       "      <td>56868.11</td>\n",
       "      <td>50974.08</td>\n",
       "      <td>42558.47008</td>\n",
       "    </tr>\n",
       "    <tr>\n",
       "      <th>3029</th>\n",
       "      <td>45</td>\n",
       "      <td>83</td>\n",
       "      <td>11</td>\n",
       "      <td>4</td>\n",
       "      <td>3683.18</td>\n",
       "      <td>2315.56</td>\n",
       "      <td>4112.18988</td>\n",
       "    </tr>\n",
       "    <tr>\n",
       "      <th>3030</th>\n",
       "      <td>45</td>\n",
       "      <td>85</td>\n",
       "      <td>11</td>\n",
       "      <td>4</td>\n",
       "      <td>7592.74</td>\n",
       "      <td>6906.34</td>\n",
       "      <td>6602.03632</td>\n",
       "    </tr>\n",
       "    <tr>\n",
       "      <th>3031</th>\n",
       "      <td>45</td>\n",
       "      <td>87</td>\n",
       "      <td>11</td>\n",
       "      <td>4</td>\n",
       "      <td>21658.25</td>\n",
       "      <td>29114.09</td>\n",
       "      <td>28672.89988</td>\n",
       "    </tr>\n",
       "    <tr>\n",
       "      <th>3032</th>\n",
       "      <td>45</td>\n",
       "      <td>90</td>\n",
       "      <td>11</td>\n",
       "      <td>4</td>\n",
       "      <td>95358.90</td>\n",
       "      <td>105547.66</td>\n",
       "      <td>86701.48540</td>\n",
       "    </tr>\n",
       "    <tr>\n",
       "      <th>3033</th>\n",
       "      <td>45</td>\n",
       "      <td>91</td>\n",
       "      <td>11</td>\n",
       "      <td>4</td>\n",
       "      <td>61173.55</td>\n",
       "      <td>66485.04</td>\n",
       "      <td>57215.85896</td>\n",
       "    </tr>\n",
       "    <tr>\n",
       "      <th>3034</th>\n",
       "      <td>45</td>\n",
       "      <td>92</td>\n",
       "      <td>11</td>\n",
       "      <td>4</td>\n",
       "      <td>203853.96</td>\n",
       "      <td>220834.69</td>\n",
       "      <td>190044.06952</td>\n",
       "    </tr>\n",
       "    <tr>\n",
       "      <th>3035</th>\n",
       "      <td>45</td>\n",
       "      <td>93</td>\n",
       "      <td>11</td>\n",
       "      <td>4</td>\n",
       "      <td>9813.09</td>\n",
       "      <td>9376.70</td>\n",
       "      <td>10111.78676</td>\n",
       "    </tr>\n",
       "    <tr>\n",
       "      <th>3036</th>\n",
       "      <td>45</td>\n",
       "      <td>94</td>\n",
       "      <td>11</td>\n",
       "      <td>4</td>\n",
       "      <td>18476.78</td>\n",
       "      <td>14041.86</td>\n",
       "      <td>13687.41520</td>\n",
       "    </tr>\n",
       "    <tr>\n",
       "      <th>3037</th>\n",
       "      <td>45</td>\n",
       "      <td>95</td>\n",
       "      <td>11</td>\n",
       "      <td>4</td>\n",
       "      <td>180986.66</td>\n",
       "      <td>197461.28</td>\n",
       "      <td>173374.05700</td>\n",
       "    </tr>\n",
       "    <tr>\n",
       "      <th>3038</th>\n",
       "      <td>45</td>\n",
       "      <td>97</td>\n",
       "      <td>11</td>\n",
       "      <td>4</td>\n",
       "      <td>24332.97</td>\n",
       "      <td>23108.33</td>\n",
       "      <td>18460.64136</td>\n",
       "    </tr>\n",
       "    <tr>\n",
       "      <th>3039</th>\n",
       "      <td>45</td>\n",
       "      <td>98</td>\n",
       "      <td>11</td>\n",
       "      <td>4</td>\n",
       "      <td>657.91</td>\n",
       "      <td>2944.22</td>\n",
       "      <td>4430.31908</td>\n",
       "    </tr>\n",
       "  </tbody>\n",
       "</table>\n",
       "<p>3040 rows × 7 columns</p>\n",
       "</div>"
      ],
      "text/plain": [
       "      Store  Dept  Month  Quarter  Monthly_2010  Monthly_2011  Monthly_2012\n",
       "0         1     1     11        4      92161.40      98537.51   83484.82976\n",
       "1         1     2     11        4     176701.15     180507.46  155313.28864\n",
       "2         1     3     11        4      38880.91      38570.76   36524.57328\n",
       "3         1     4     11        4     156268.46     160402.08  127444.01984\n",
       "4         1     5     11        4     142478.05     169638.24  145065.33752\n",
       "5         1     6     11        4      32956.67      31021.46   22745.07220\n",
       "6         1     7     11        4     137105.06     143229.81  117768.85564\n",
       "7         1     8     11        4     141569.01     137376.40  112112.37036\n",
       "8         1     9     11        4     158027.59     159507.21  128358.55368\n",
       "9         1    10     11        4     114989.47     122826.34  104405.69812\n",
       "10        1    11     11        4     101053.04     100740.09   85996.06764\n",
       "11        1    12     11        4      38264.27      37869.91   34193.86236\n",
       "12        1    13     11        4     154721.26     154866.81  125615.25744\n",
       "13        1    14     11        4      85975.15      86115.64   77102.19768\n",
       "14        1    16     11        4      27935.90      25518.48   21366.37276\n",
       "15        1    17     11        4      41278.51      36965.26   32147.76624\n",
       "16        1    18     11        4      69964.93      69007.12   59776.90004\n",
       "17        1    19     11        4       5965.16       3378.17    3691.24596\n",
       "18        1    20     11        4      14950.31      14409.38   11826.85644\n",
       "19        1    21     11        4      32065.35      35505.66   30808.74604\n",
       "20        1    22     11        4      38914.76      43193.76   34763.94656\n",
       "21        1    23     11        4     104222.00      96161.73   76076.40536\n",
       "22        1    24     11        4      32342.62      27926.81   23527.73648\n",
       "23        1    25     11        4      41539.49      42263.43   34598.38156\n",
       "24        1    26     11        4      37686.20      31280.33   26061.59996\n",
       "25        1    27     11        4       7112.70       7586.17    6934.93476\n",
       "26        1    28     11        4       3754.12       2929.19    3893.52668\n",
       "27        1    29     11        4      21956.12      19531.55   16341.72136\n",
       "28        1    30     11        4      11397.52      10438.30    9141.84296\n",
       "29        1    31     11        4       9398.80       6387.85    6746.88876\n",
       "...     ...   ...    ...      ...           ...           ...           ...\n",
       "3010     45    42     11        4      17019.12      19961.20   18017.82068\n",
       "3011     45    44     11        4      11407.92      12209.25    9331.93532\n",
       "3012     45    45     11        4          5.47          0.00      36.48420\n",
       "3013     45    46     11        4      60039.72      51895.79   44613.45528\n",
       "3014     45    52     11        4       6097.60       6690.49    7701.95520\n",
       "3015     45    54     11        4        234.15        126.52      61.94128\n",
       "3016     45    55     11        4      52789.14      60236.80   49950.38276\n",
       "3017     45    56     11        4       1693.14       1408.99    2055.40792\n",
       "3018     45    58     11        4       7063.00       3490.00    4993.36092\n",
       "3019     45    59     11        4       6587.20       1682.27    5854.24404\n",
       "3020     45    60     11        4        464.60        624.80     622.45804\n",
       "3021     45    67     11        4      23546.51      25241.77   21705.37152\n",
       "3022     45    71     11        4      19865.21      22851.14   17141.25384\n",
       "3023     45    72     11        4     343154.71     343995.45  273496.87412\n",
       "3024     45    74     11        4      47163.39      45974.39   36685.31556\n",
       "3025     45    79     11        4      59700.88      63327.32   53650.59376\n",
       "3026     45    80     11        4        115.11       3686.60    3441.04160\n",
       "3027     45    81     11        4      60772.26      56339.97   47663.31224\n",
       "3028     45    82     11        4      56868.11      50974.08   42558.47008\n",
       "3029     45    83     11        4       3683.18       2315.56    4112.18988\n",
       "3030     45    85     11        4       7592.74       6906.34    6602.03632\n",
       "3031     45    87     11        4      21658.25      29114.09   28672.89988\n",
       "3032     45    90     11        4      95358.90     105547.66   86701.48540\n",
       "3033     45    91     11        4      61173.55      66485.04   57215.85896\n",
       "3034     45    92     11        4     203853.96     220834.69  190044.06952\n",
       "3035     45    93     11        4       9813.09       9376.70   10111.78676\n",
       "3036     45    94     11        4      18476.78      14041.86   13687.41520\n",
       "3037     45    95     11        4     180986.66     197461.28  173374.05700\n",
       "3038     45    97     11        4      24332.97      23108.33   18460.64136\n",
       "3039     45    98     11        4        657.91       2944.22    4430.31908\n",
       "\n",
       "[3040 rows x 7 columns]"
      ]
     },
     "execution_count": 270,
     "metadata": {},
     "output_type": "execute_result"
    }
   ],
   "source": [
    "nov_data"
   ]
  },
  {
   "cell_type": "code",
   "execution_count": 271,
   "metadata": {},
   "outputs": [
    {
     "data": {
      "text/plain": [
       "(30528, 7)"
      ]
     },
     "execution_count": 271,
     "metadata": {},
     "output_type": "execute_result"
    }
   ],
   "source": [
    "year_2012.shape"
   ]
  },
  {
   "cell_type": "code",
   "execution_count": 272,
   "metadata": {},
   "outputs": [
    {
     "data": {
      "text/plain": [
       "(3040, 7)"
      ]
     },
     "execution_count": 272,
     "metadata": {},
     "output_type": "execute_result"
    }
   ],
   "source": [
    "nov_data.shape"
   ]
  },
  {
   "cell_type": "code",
   "execution_count": 276,
   "metadata": {},
   "outputs": [],
   "source": [
    "df = pd.concat([year_2012,nov_data],axis=0)"
   ]
  },
  {
   "cell_type": "code",
   "execution_count": 277,
   "metadata": {},
   "outputs": [],
   "source": [
    "df.to_csv('Merged_Q1_allData.csv',index=False)"
   ]
  },
  {
   "cell_type": "code",
   "execution_count": null,
   "metadata": {},
   "outputs": [],
   "source": []
  }
 ],
 "metadata": {
  "kernelspec": {
   "display_name": "Python 3",
   "language": "python",
   "name": "python3"
  },
  "language_info": {
   "codemirror_mode": {
    "name": "ipython",
    "version": 3
   },
   "file_extension": ".py",
   "mimetype": "text/x-python",
   "name": "python",
   "nbconvert_exporter": "python",
   "pygments_lexer": "ipython3",
   "version": "3.6.8"
  }
 },
 "nbformat": 4,
 "nbformat_minor": 2
}

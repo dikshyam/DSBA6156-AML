{
 "cells": [
  {
   "cell_type": "markdown",
   "metadata": {},
   "source": [
    "We will start by importing the necessary libraries. We will use Numpy along with Tensorflow for computations, Pandas for basic Data Analysis and Matplotlib for plotting. We will also be using the preprocessing module of Scikit-Learn for One Hot Encoding the data.\n",
    "\n"
   ]
  },
  {
   "cell_type": "code",
   "execution_count": 3,
   "metadata": {},
   "outputs": [],
   "source": [
    "# importing modules \n",
    "import numpy as np \n",
    "import pandas as pd \n",
    "import tensorflow as tf \n",
    "import matplotlib.pyplot as plt \n",
    "from sklearn.preprocessing import OneHotEncoder \n",
    "\n",
    "import warnings\n",
    "warnings.filterwarnings(\"ignore\")"
   ]
  },
  {
   "cell_type": "markdown",
   "metadata": {},
   "source": [
    "Next we will be importing the dataset. We will be using a subset of the famous Iris dataset.\n",
    "\n"
   ]
  },
  {
   "cell_type": "code",
   "execution_count": 5,
   "metadata": {},
   "outputs": [
    {
     "name": "stdout",
     "output_type": "stream",
     "text": [
      "Data Shape: (100, 4)\n",
      "   0    1    2  3\n",
      "0  0  5.1  3.5  1\n",
      "1  1  4.9  3.0  1\n",
      "2  2  4.7  3.2  1\n",
      "3  3  4.6  3.1  1\n",
      "4  4  5.0  3.6  1\n"
     ]
    }
   ],
   "source": [
    "data = pd.read_csv('dataset.csv', header = None) \n",
    "print(\"Data Shape:\", data.shape) \n",
    "  \n",
    "print(data.head()) "
   ]
  },
  {
   "cell_type": "markdown",
   "metadata": {},
   "source": [
    "Now let’s get the feature matrix and the corresponding labels and visualize.\n",
    "\n"
   ]
  },
  {
   "cell_type": "code",
   "execution_count": 6,
   "metadata": {},
   "outputs": [
    {
     "name": "stdout",
     "output_type": "stream",
     "text": [
      "Shape of Feature Matrix: (100, 2)\n",
      "Shape Label Vector: (100, 1)\n"
     ]
    }
   ],
   "source": [
    "# Feature Matrix \n",
    "x_orig = data.iloc[:, 1:-1].values \n",
    "  \n",
    "# Data labels \n",
    "y_orig = data.iloc[:, -1:].values \n",
    "  \n",
    "print(\"Shape of Feature Matrix:\", x_orig.shape) \n",
    "print(\"Shape Label Vector:\", y_orig.shape) "
   ]
  },
  {
   "cell_type": "markdown",
   "metadata": {},
   "source": [
    "Visualize the given data.\n",
    "\n"
   ]
  },
  {
   "cell_type": "code",
   "execution_count": 7,
   "metadata": {},
   "outputs": [
    {
     "data": {
      "image/png": "[encoded data removed]",
      "text/plain": [
       "<Figure size 432x288 with 1 Axes>"
      ]
     },
     "metadata": {},
     "output_type": "display_data"
    }
   ],
   "source": [
    "\n",
    "# Positive Data Points \n",
    "x_pos = np.array([x_orig[i] for i in range(len(x_orig)) \n",
    "                                    if y_orig[i] == 1]) \n",
    "  \n",
    "# Negative Data Points \n",
    "x_neg = np.array([x_orig[i] for i in range(len(x_orig)) \n",
    "                                    if y_orig[i] == 0]) \n",
    "  \n",
    "# Plotting the Positive Data Points \n",
    "plt.scatter(x_pos[:, 0], x_pos[:, 1], color = 'blue', label = 'Positive') \n",
    "  \n",
    "# Plotting the Negative Data Points \n",
    "plt.scatter(x_neg[:, 0], x_neg[:, 1], color = 'red', label = 'Negative') \n",
    "  \n",
    "plt.xlabel('Feature 1') \n",
    "plt.ylabel('Feature 2') \n",
    "plt.title('Plot of given data') \n",
    "plt.legend() \n",
    "  \n",
    "plt.show() \n"
   ]
  },
  {
   "cell_type": "markdown",
   "metadata": {},
   "source": [
    "Now we will be One Hot Encoding the data for it to work with the algorithm. One hot encoding transforms categorical features to a format that works better with classification and regression algorithms. We will also be setting the Learning Rate and the number of Epochs."
   ]
  },
  {
   "cell_type": "code",
   "execution_count": 8,
   "metadata": {},
   "outputs": [
    {
     "name": "stdout",
     "output_type": "stream",
     "text": [
      "m = 100\n",
      "n = 7\n",
      "Learning Rate = 0.0035\n",
      "Number of Epochs = 500\n"
     ]
    }
   ],
   "source": [
    "\n",
    "# Creating the One Hot Encoder \n",
    "oneHot = OneHotEncoder() \n",
    "  \n",
    "# Encoding x_orig \n",
    "oneHot.fit(x_orig) \n",
    "x = oneHot.transform(x_orig).toarray() \n",
    "  \n",
    "# Encoding y_orig \n",
    "oneHot.fit(y_orig) \n",
    "y = oneHot.transform(y_orig).toarray() \n",
    "  \n",
    "alpha, epochs = 0.0035, 500\n",
    "m, n = x.shape \n",
    "print('m =', m) \n",
    "print('n =', n) \n",
    "print('Learning Rate =', alpha) \n",
    "print('Number of Epochs =', epochs) "
   ]
  },
  {
   "cell_type": "markdown",
   "metadata": {},
   "source": [
    "Now we will start creating the model by defining the placeholders X and Y, so that we can feed our training examples x and y into the optimizer during the training process. We will also be creating the trainable Variables W and b which can be optimized by the Gradient Descent Optimizer."
   ]
  },
  {
   "cell_type": "code",
   "execution_count": 9,
   "metadata": {},
   "outputs": [],
   "source": [
    "# There are n columns in the feature matrix \n",
    "# after One Hot Encoding. \n",
    "X = tf.placeholder(tf.float32, [None, n]) \n",
    "  \n",
    "# Since this is a binary classification problem, \n",
    "# Y can take only 2 values. \n",
    "Y = tf.placeholder(tf.float32, [None, 2]) \n",
    "  \n",
    "# Trainable Variable Weights \n",
    "W = tf.Variable(tf.zeros([n, 2])) \n",
    "  \n",
    "# Trainable Variable Bias \n",
    "b = tf.Variable(tf.zeros([2])) \n"
   ]
  },
  {
   "cell_type": "markdown",
   "metadata": {},
   "source": [
    "Now declare the Hypothesis, Cost function, Optimizer and Global Variables Initializer.\n",
    "\n"
   ]
  },
  {
   "cell_type": "code",
   "execution_count": 10,
   "metadata": {},
   "outputs": [],
   "source": [
    "# Hypothesis \n",
    "Y_hat = tf.nn.sigmoid(tf.add(tf.matmul(X, W), b)) \n",
    "  \n",
    "# Sigmoid Cross Entropy Cost Function \n",
    "cost = tf.nn.sigmoid_cross_entropy_with_logits( \n",
    "                    logits = Y_hat, labels = Y) \n",
    "  \n",
    "# Gradient Descent Optimizer \n",
    "optimizer = tf.train.GradientDescentOptimizer( \n",
    "         learning_rate = alpha).minimize(cost) \n",
    "  \n",
    "# Global Variables Initializer \n",
    "init = tf.global_variables_initializer() \n"
   ]
  },
  {
   "cell_type": "markdown",
   "metadata": {},
   "source": [
    "Begin the training process inside a Tensorflow Session.\n",
    "\n",
    "\n"
   ]
  },
  {
   "cell_type": "code",
   "execution_count": 11,
   "metadata": {},
   "outputs": [
    {
     "name": "stdout",
     "output_type": "stream",
     "text": [
      "Epoch 100 Cost: 125.70020294189453\n",
      "Epoch 200 Cost: 120.6471176147461\n",
      "Epoch 300 Cost: 118.15159606933594\n",
      "Epoch 400 Cost: 116.54996871948242\n",
      "\n",
      "Accuracy: 91.00000262260437 %\n"
     ]
    }
   ],
   "source": [
    "# Starting the Tensorflow Session \n",
    "with tf.Session() as sess: \n",
    "      \n",
    "    # Initializing the Variables \n",
    "    sess.run(init) \n",
    "      \n",
    "    # Lists for storing the changing Cost and Accuracy in every Epoch \n",
    "    cost_history, accuracy_history = [], [] \n",
    "      \n",
    "    # Iterating through all the epochs \n",
    "    for epoch in range(epochs): \n",
    "        cost_per_epoch = 0\n",
    "          \n",
    "        # Running the Optimizer \n",
    "        sess.run(optimizer, feed_dict = {X : x, Y : y}) \n",
    "          \n",
    "        # Calculating cost on current Epoch \n",
    "        c = sess.run(cost, feed_dict = {X : x, Y : y}) \n",
    "          \n",
    "        # Calculating accuracy on current Epoch \n",
    "        correct_prediction = tf.equal(tf.argmax(Y_hat, 1), \n",
    "                                          tf.argmax(Y, 1)) \n",
    "        accuracy = tf.reduce_mean(tf.cast(correct_prediction, \n",
    "                                                 tf.float32)) \n",
    "          \n",
    "        # Storing Cost and Accuracy to the history \n",
    "        cost_history.append(sum(sum(c))) \n",
    "        accuracy_history.append(accuracy.eval({X : x, Y : y}) * 100) \n",
    "          \n",
    "        # Displaying result on current Epoch \n",
    "        if epoch % 100 == 0 and epoch != 0: \n",
    "            print(\"Epoch \" + str(epoch) + \" Cost: \"\n",
    "                            + str(cost_history[-1])) \n",
    "      \n",
    "    Weight = sess.run(W) # Optimized Weight \n",
    "    Bias = sess.run(b)   # Optimized Bias \n",
    "      \n",
    "    # Final Accuracy \n",
    "    correct_prediction = tf.equal(tf.argmax(Y_hat, 1), \n",
    "                                      tf.argmax(Y, 1)) \n",
    "    accuracy = tf.reduce_mean(tf.cast(correct_prediction,  \n",
    "                                             tf.float32)) \n",
    "    print(\"\\nAccuracy:\", accuracy_history[-1], \"%\") "
   ]
  },
  {
   "cell_type": "markdown",
   "metadata": {},
   "source": [
    "Let’s plot the change of cost over the epochs.\n",
    "\n"
   ]
  },
  {
   "cell_type": "code",
   "execution_count": 12,
   "metadata": {},
   "outputs": [
    {
     "data": {
      "image/png": "[encoded data removed]",
      "text/plain": [
       "<Figure size 432x288 with 1 Axes>"
      ]
     },
     "metadata": {},
     "output_type": "display_data"
    }
   ],
   "source": [
    "plt.plot(list(range(epochs)), cost_history) \n",
    "plt.xlabel('Epochs') \n",
    "plt.ylabel('Cost') \n",
    "plt.title('Decrease in Cost with Epochs') \n",
    "  \n",
    "plt.show() "
   ]
  },
  {
   "cell_type": "markdown",
   "metadata": {},
   "source": [
    "Plot the change of accuracy over the epochs.\n",
    "\n"
   ]
  },
  {
   "cell_type": "code",
   "execution_count": 13,
   "metadata": {},
   "outputs": [
    {
     "data": {
      "image/png": "[encoded data removed]",
      "text/plain": [
       "<Figure size 432x288 with 1 Axes>"
      ]
     },
     "metadata": {},
     "output_type": "display_data"
    }
   ],
   "source": [
    "\n",
    "plt.plot(list(range(epochs)), accuracy_history) \n",
    "plt.xlabel('Epochs') \n",
    "plt.ylabel('Accuracy') \n",
    "plt.title('Increase in Accuracy with Epochs') \n",
    "  \n",
    "plt.show() \n"
   ]
  },
  {
   "cell_type": "markdown",
   "metadata": {},
   "source": [
    "Now we will be plotting the Decision Boundary for our trained classifier. A decision boundary is a hypersurface that partitions the underlying vector space into two sets, one for each class.\n",
    "\n"
   ]
  },
  {
   "cell_type": "code",
   "execution_count": 16,
   "metadata": {},
   "outputs": [
    {
     "data": {
      "image/png": "[encoded data removed]",
      "text/plain": [
       "<Figure size 432x288 with 1 Axes>"
      ]
     },
     "metadata": {},
     "output_type": "display_data"
    }
   ],
   "source": [
    "# Calculating the Decision Boundary \n",
    "decision_boundary_x = np.array([np.min(x_orig[:, 0]), \n",
    "                               np.max(x_orig[:, 0])]) \n",
    "  \n",
    "decision_boundary_y = (- 1.0 / Weight[0]) *(decision_boundary_x * Weight + Bias) \n",
    "  \n",
    "decision_boundary_y = [sum(decision_boundary_y[:, 0]),  \n",
    "                       sum(decision_boundary_y[:, 1])] \n",
    "  \n",
    "# Positive Data Points \n",
    "x_pos = np.array([x_orig[i] for i in range(len(x_orig)) \n",
    "                                    if y_orig[i] == 1]) \n",
    "  \n",
    "# Negative Data Points \n",
    "x_neg = np.array([x_orig[i] for i in range(len(x_orig))  \n",
    "                                    if y_orig[i] == 0]) \n",
    "  \n",
    "# Plotting the Positive Data Points \n",
    "plt.scatter(x_pos[:, 0], x_pos[:, 1], \n",
    "  color = 'blue', label = 'Positive') \n",
    "  \n",
    "# Plotting the Negative Data Points \n",
    "plt.scatter(x_neg[:, 0], x_neg[:, 1], \n",
    "   color = 'red', label = 'Negative') \n",
    "  \n",
    "# Plotting the Decision Boundary \n",
    "plt.plot(decision_boundary_x, decision_boundary_y) \n",
    "plt.xlabel('Feature 1') \n",
    "plt.ylabel('Feature 2') \n",
    "plt.title('Plot of Decision Boundary') \n",
    "plt.legend() \n",
    "  \n",
    "plt.show() "
   ]
  },
  {
   "cell_type": "code",
   "execution_count": null,
   "metadata": {},
   "outputs": [],
   "source": []
  }
 ],
 "metadata": {
  "kernelspec": {
   "display_name": "Python 3",
   "language": "python",
   "name": "python3"
  },
  "language_info": {
   "codemirror_mode": {
    "name": "ipython",
    "version": 3
   },
   "file_extension": ".py",
   "mimetype": "text/x-python",
   "name": "python",
   "nbconvert_exporter": "python",
   "pygments_lexer": "ipython3",
   "version": "3.6.8"
  }
 },
 "nbformat": 4,
 "nbformat_minor": 2
}
